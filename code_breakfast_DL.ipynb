{
 "cells": [
  {
   "cell_type": "code",
   "execution_count": 1,
   "metadata": {
    "slideshow": {
     "slide_type": "skip"
    }
   },
   "outputs": [
    {
     "data": {
      "text/html": [
       "<link rel=\"stylesheet\" type=\"text/css\" href=\"css/custom.css\">\n"
      ],
      "text/plain": [
       "<IPython.core.display.HTML object>"
      ]
     },
     "metadata": {},
     "output_type": "display_data"
    }
   ],
   "source": [
    "%%HTML\n",
    "<link rel=\"stylesheet\" type=\"text/css\" href=\"css/custom.css\">"
   ]
  },
  {
   "cell_type": "markdown",
   "metadata": {},
   "source": [
    "# About the speaker & Contact\n",
    "\n",
    "**Vadim Nelidov**: [Data Scientist, Educator and Innovator at GoDataDriven](https://godatadriven.com/team/vadim-nelidov/)\n",
    "\n",
    "Feel free to contact me via\n",
    "\n",
    "*email*: vadimnelidov@godatadriven.com\n",
    "\n",
    "*LinkedIn*: https://www.linkedin.com/in/vadim-nelidov-4b1921188\n"
   ]
  },
  {
   "cell_type": "markdown",
   "metadata": {},
   "source": [
    "# Where to find the materials\n",
    "\n",
    "Use this link to a dropbox folder :\n",
    "https://gdd.li/codebr_nn_files\n",
    "\n",
    "\"*code_breakfast_DL*\" contains the notebook with the slides and code\n",
    "\n",
    " \"*requirements.txt*\" and \"*environment.yml*\" contain the Python libraries / venv requirements \n",
    " \n",
    " **NOTE: some blocks of code may take substantial time to run, mind that when running the full notebook**"
   ]
  },
  {
   "cell_type": "markdown",
   "metadata": {},
   "source": [
    "## Inspiring Breakfast Ideas: Brain Food for Neural Network Fans!\n",
    "\n",
    "(click on the pic)\n",
    "\n",
    "<p></p>\n",
    "\n",
    "<a href=\"https://www.aheadofthyme.com/2015/12/cinnamon-and-walnut-porridge/\">\n",
    "<img src=\"https://www.aheadofthyme.com/wp-content/uploads/2015/12/cinnamon-and-walnut-porridge-02.jpg\" style=\"width: 600px;\" href/>\n",
    " </a>\n",
    " \n",
    "                                             Cinnamon and Walnut Porridge"
   ]
  },
  {
   "cell_type": "markdown",
   "metadata": {
    "slideshow": {
     "slide_type": "slide"
    }
   },
   "source": [
    "# Vulnerabilities of Neural Networks: Find, Defend and Prevent\n",
    "\n",
    "\n",
    "<img src=\"images/intro.png\" width=\"650\" style=\"display: block;margin-left: auto;margin-right: auto;\"/>\n",
    "\n",
    "\n",
    "![footer_logo](images/logo.png)"
   ]
  },
  {
   "cell_type": "markdown",
   "metadata": {
    "slideshow": {
     "slide_type": "subslide"
    }
   },
   "source": [
    "# Program\n",
    "\n",
    "- Risks involved with NNs\n",
    "- Adversary NN Manipulations and how they work\n",
    "- Attack Types\n",
    "- Building a benchmark \"target\" model\n",
    "- Implementing various attack strategies\n",
    "- Defense types\n",
    "- Implementation of defenses\n",
    "- Future extensions and tips"
   ]
  },
  {
   "cell_type": "markdown",
   "metadata": {
    "slideshow": {
     "slide_type": "slide"
    }
   },
   "source": [
    "# Risks involved with NNs\n",
    "\n",
    "- voice and face recognition manipulation\n",
    "- failure of spam and fraud detection\n",
    "- unnoticed computer security threats\n",
    "- computer vision and autonomous machine failure\n",
    "- never again getting speeding fines? 🤔"
   ]
  },
  {
   "cell_type": "markdown",
   "metadata": {
    "slideshow": {
     "slide_type": "subslide"
    }
   },
   "source": [
    "# Risks involved with NNs\n",
    "\n",
    "<img src=\"images/road_sign.png\" width=\"500\" style=\"display: block;margin-left: auto;margin-right: auto;\"/>"
   ]
  },
  {
   "cell_type": "markdown",
   "metadata": {
    "slideshow": {
     "slide_type": "slide"
    }
   },
   "source": [
    "# Adversary NN Manipulation: idea\n",
    "\n",
    "<img src=\"images/attack_logic.png\" width=\"700\" style=\"display: block;margin-left: auto;margin-right: auto;\"/>"
   ]
  },
  {
   "cell_type": "markdown",
   "metadata": {
    "slideshow": {
     "slide_type": "subslide"
    }
   },
   "source": [
    "# Adversary NN Manipulation: strategic noise\n",
    "\n",
    "<img src=\"images/strategic_noise.png\" width=\"700\" style=\"display: block;margin-left: auto;margin-right: auto;\"/>"
   ]
  },
  {
   "cell_type": "markdown",
   "metadata": {
    "slideshow": {
     "slide_type": "subslide"
    }
   },
   "source": [
    "# Black box vs white box attacks\n",
    "\n",
    "**White box attack**: the underlying network is *fully known* (e.g. using MobileNet) and is used to train a \"noise-maker\"\n",
    "\n",
    "**Black box attack**: the underlying network is *unknown*\n",
    "\n",
    "- passing many training samples into the network and obtaining the output\n",
    "- using this labeled output to train a new NN that produces same output\n",
    "- using this new inferred NN as if it was a *white box attack*\n",
    "\n",
    "Check the [original 2015 paper](https://arxiv.org/pdf/1602.02697.pdf) about black box attacks"
   ]
  },
  {
   "cell_type": "markdown",
   "metadata": {
    "slideshow": {
     "slide_type": "subslide"
    }
   },
   "source": [
    "# Evasion attacks vs Poison attacks\n",
    "\n",
    "**Evasion attacks**: tricking a system to identify an input as a desired / wrong class\n",
    "\n",
    "**Poison attacks**: sabotaging the learning process of an algorithm\n",
    "\n",
    "- manipulated of engineered mislabeled samples\n",
    "- e.g. virus-like code with a non-virus label for antivirus programs\n",
    "- mostly relevant for online learning\n",
    "- we should be careful with what we use for training!\n"
   ]
  },
  {
   "cell_type": "markdown",
   "metadata": {
    "slideshow": {
     "slide_type": "slide"
    }
   },
   "source": [
    "# Code time!\n",
    "\n",
    "## Plan of attack\n",
    "\n",
    "1. Train / import an accurate classification model\n",
    "2. Apply a few powerful attack algorithms\n",
    "3. Use generated adversarial samples to test model's vulnerability\n",
    "4. Try various defensive techniques and find the most helpful\n",
    "5. Combine selected techniques into the final robust model"
   ]
  },
  {
   "cell_type": "code",
   "execution_count": 191,
   "metadata": {
    "slideshow": {
     "slide_type": "-"
    }
   },
   "outputs": [],
   "source": [
    "#imports\n",
    "\n",
    "#ADJUST THIS FURTHER\n",
    "\n",
    "import tensorflow.keras\n",
    "from tensorflow.keras.datasets import mnist\n",
    "from tensorflow.keras.models import Model\n",
    "from tensorflow.keras.layers import Dense, Dropout, Flatten ,Input\n",
    "from tensorflow.keras.layers import Conv2D, MaxPool2D, Reshape, Add\n",
    "from tensorflow.keras.metrics import categorical_accuracy\n",
    "from tensorflow.keras.regularizers import l1_l2, l2, l1\n",
    "from tensorflow.keras.callbacks import EarlyStopping, ModelCheckpoint\n",
    "from tensorflow.keras.layers import Activation\n",
    "from tensorflow.keras.utils import to_categorical\n",
    "from tensorflow.keras.utils import get_custom_objects\n",
    "from tensorflow.python.keras import backend as K\n",
    "from tensorflow.keras.preprocessing.image import array_to_img,img_to_array, ImageDataGenerator\n",
    "\n",
    "import matplotlib.pyplot as plt\n",
    "import numpy as np\n",
    "from scipy import ndimage\n",
    "import random"
   ]
  },
  {
   "cell_type": "code",
   "execution_count": 106,
   "metadata": {},
   "outputs": [
    {
     "name": "stdout",
     "output_type": "stream",
     "text": [
      "(60000, 28, 28)\n"
     ]
    },
    {
     "data": {
      "image/png": "[encoded data removed]",
      "text/plain": [
       "<Figure size 432x288 with 6 Axes>"
      ]
     },
     "metadata": {
      "needs_background": "light"
     },
     "output_type": "display_data"
    }
   ],
   "source": [
    "#loading data\n",
    "(X_train, y_train), (X_test, y_test) = mnist.load_data()\n",
    "\n",
    "print(X_train.shape)\n",
    "\n",
    "[ax.imshow(random.choice(X_train), cmap=\"gray\") for ax in plt.subplots(1, 6)[1]];"
   ]
  },
  {
   "cell_type": "code",
   "execution_count": 107,
   "metadata": {},
   "outputs": [],
   "source": [
    "#adjusting images and encoding labels\n",
    "\n",
    "if len(X_train.shape) != 4:\n",
    "    X_train = np.expand_dims(X_train, axis=3)\n",
    "if len(X_test.shape) != 4:\n",
    "    X_test = np.expand_dims(X_test, axis=3)\n",
    "\n",
    "X_train, X_test = X_train.astype(\"float\") / 255, X_test.astype(\"float\") / 255\n",
    "y_train_onehot, y_test_onehot = to_categorical(y_train), to_categorical(y_test)"
   ]
  },
  {
   "cell_type": "code",
   "execution_count": 108,
   "metadata": {},
   "outputs": [
    {
     "name": "stdout",
     "output_type": "stream",
     "text": [
      "Train:\tX shape:(60000, 28, 28, 1)\tY shape:(60000, 10)\tType (X, y): (float64, float32)\tX values (min, max): (0.0, 1.0)\n",
      "Test:\tX shape:(10000, 28, 28, 1)\tY shape:(10000, 10)\tType (X, y): (float64, float32)\tX values (min, max): (0.0, 1.0)\n"
     ]
    }
   ],
   "source": [
    "#checking shapes\n",
    "print(\n",
    "    f\"Train:\\tX shape:{X_train.shape}\\tY shape:{y_train_onehot.shape}\\tType (X, y): ({X_train.dtype}, {y_train_onehot.dtype})\\tX values (min, max): ({X_train.min()}, {X_train.max()})\"\n",
    ")\n",
    "print(\n",
    "    f\"Test:\\tX shape:{X_test.shape}\\tY shape:{y_test_onehot.shape}\\tType (X, y): ({X_test.dtype}, {y_test_onehot.dtype})\\tX values (min, max): ({X_test.min()}, {X_test.max()})\"\n",
    ")"
   ]
  },
  {
   "cell_type": "markdown",
   "metadata": {},
   "source": [
    "# First we create a high-accuracy CNN \n",
    "\n",
    "### Here we use:\n",
    "\n",
    "- Two convolutional layers\n",
    "- Padding to better pick up edge pieces\n",
    "- One fully-connected layer at the end\n",
    "- Dropouts to decrease overfitting\n",
    "- Softmax activation at the end as we have multi-class classification\n",
    "- Early stopping callback to prevent excessive learning"
   ]
  },
  {
   "cell_type": "markdown",
   "metadata": {},
   "source": [
    "## Homework\n",
    "\n",
    "Redo our whole procedure with a state-of-art NN using Transfer learning --> they are vulnerable too!\n",
    "\n",
    "(for example MobileNet or Inception)"
   ]
  },
  {
   "cell_type": "code",
   "execution_count": 6,
   "metadata": {},
   "outputs": [],
   "source": [
    "#fix the random state for reproducibility\n",
    "from tensorflow import set_random_seed\n",
    "set_random_seed(2222)"
   ]
  },
  {
   "cell_type": "code",
   "execution_count": 7,
   "metadata": {
    "slideshow": {
     "slide_type": "-"
    }
   },
   "outputs": [
    {
     "name": "stdout",
     "output_type": "stream",
     "text": [
      "WARNING:tensorflow:From /Users/vadim/anaconda3/lib/python3.7/site-packages/tensorflow/python/ops/resource_variable_ops.py:435: colocate_with (from tensorflow.python.framework.ops) is deprecated and will be removed in a future version.\n",
      "Instructions for updating:\n",
      "Colocations handled automatically by placer.\n",
      "WARNING:tensorflow:From /Users/vadim/anaconda3/lib/python3.7/site-packages/tensorflow/python/keras/layers/core.py:143: calling dropout (from tensorflow.python.ops.nn_ops) with keep_prob is deprecated and will be removed in a future version.\n",
      "Instructions for updating:\n",
      "Please use `rate` instead of `keep_prob`. Rate should be set to `rate = 1 - keep_prob`.\n",
      "_________________________________________________________________\n",
      "Layer (type)                 Output Shape              Param #   \n",
      "=================================================================\n",
      "input_1 (InputLayer)         (None, 28, 28, 1)         0         \n",
      "_________________________________________________________________\n",
      "conv2d (Conv2D)              (None, 28, 28, 64)        320       \n",
      "_________________________________________________________________\n",
      "max_pooling2d (MaxPooling2D) (None, 14, 14, 64)        0         \n",
      "_________________________________________________________________\n",
      "dropout (Dropout)            (None, 14, 14, 64)        0         \n",
      "_________________________________________________________________\n",
      "conv2d_1 (Conv2D)            (None, 14, 14, 32)        8224      \n",
      "_________________________________________________________________\n",
      "max_pooling2d_1 (MaxPooling2 (None, 7, 7, 32)          0         \n",
      "_________________________________________________________________\n",
      "dropout_1 (Dropout)          (None, 7, 7, 32)          0         \n",
      "_________________________________________________________________\n",
      "flatten (Flatten)            (None, 1568)              0         \n",
      "_________________________________________________________________\n",
      "dense (Dense)                (None, 256)               401664    \n",
      "_________________________________________________________________\n",
      "dropout_2 (Dropout)          (None, 256)               0         \n",
      "_________________________________________________________________\n",
      "dense_1 (Dense)              (None, 10)                2570      \n",
      "=================================================================\n",
      "Total params: 412,778\n",
      "Trainable params: 412,778\n",
      "Non-trainable params: 0\n",
      "_________________________________________________________________\n"
     ]
    }
   ],
   "source": [
    "#building the target CNN model\n",
    "def make_mnist_model(name):\n",
    "\n",
    "    inputs = Input(shape=(28, 28, 1))\n",
    "\n",
    "    net = Conv2D(64, kernel_size=2, padding=\"same\", activation=\"relu\")(inputs)\n",
    "    net = MaxPool2D(pool_size=2)(net)\n",
    "\n",
    "    net = Dropout(rate = 0.3)(net)\n",
    "    net = Conv2D(filters=32, kernel_size=2, padding=\"same\", activation=\"relu\")(net)\n",
    "    net = MaxPool2D(pool_size=2)(net)\n",
    "\n",
    "    net = Dropout(rate = 0.3)(net)\n",
    "    net = Flatten()(net)\n",
    "    net = Dense(256, activation=\"relu\")(net)\n",
    "\n",
    "    net = Dropout(rate = 0.3)(net)\n",
    "    predictions = Dense(10, activation=\"softmax\")(net)\n",
    "\n",
    "    model = Model(inputs=inputs, outputs=predictions, name=name)\n",
    "\n",
    "    return model\n",
    "\n",
    "\n",
    "mnist_model = make_mnist_model('target_classification_model')\n",
    "mnist_model.summary()"
   ]
  },
  {
   "cell_type": "code",
   "execution_count": 9,
   "metadata": {
    "scrolled": false,
    "slideshow": {
     "slide_type": "-"
    }
   },
   "outputs": [
    {
     "name": "stdout",
     "output_type": "stream",
     "text": [
      "WARNING:tensorflow:From /Users/vadim/anaconda3/lib/python3.7/site-packages/tensorflow/python/ops/math_ops.py:3066: to_int32 (from tensorflow.python.ops.math_ops) is deprecated and will be removed in a future version.\n",
      "Instructions for updating:\n",
      "Use tf.cast instead.\n",
      "60000/60000 [==============================] - 4s 70us/sample - loss: 0.0063 - categorical_accuracy: 0.9984\n",
      "[0.006281816430466279, 0.9984]\n",
      "10000/10000 [==============================] - 1s 75us/sample - loss: 0.0248 - categorical_accuracy: 0.9924\n",
      "[0.02482740342307843, 0.9924]\n"
     ]
    }
   ],
   "source": [
    "#compiling the target model\n",
    "mnist_model.compile(optimizer='Adam', loss='categorical_crossentropy', metrics=[categorical_accuracy])\n",
    "\n",
    "#training target model\n",
    "\n",
    "#earlyStop ensures we do not train \"too much\"\n",
    "earlyStop = EarlyStopping(monitor='val_categorical_accuracy', min_delta=0, patience=3, verbose=0, mode='auto',\n",
    "                          baseline=None, restore_best_weights=True)\n",
    "\n",
    "mnist_model.fit(X_train, y_train_onehot, batch_size=128, epochs=10000, verbose=0,\n",
    "                validation_data=(X_test, y_test_onehot), callbacks=[earlyStop])\n",
    "\n",
    "print(mnist_model.evaluate(X_train, y_train_onehot))\n",
    "print(mnist_model.evaluate(X_test, y_test_onehot))"
   ]
  },
  {
   "cell_type": "markdown",
   "metadata": {},
   "source": [
    "# Adding random noise\n",
    "\n",
    "As the example below shows, our model is robust to just randomly added noise.\n",
    "\n",
    "A successful intervention has to be smarter than that.\n",
    "\n",
    "Besides this way we clearly cannot control where misclassification goes."
   ]
  },
  {
   "cell_type": "code",
   "execution_count": 156,
   "metadata": {},
   "outputs": [],
   "source": [
    "#a resusable function to print a picture and show predictions\n",
    "\n",
    "def show_predict(img, predict = False, pred_model = None, shape = (28, 28), threshold = 0.05, show_img = True):\n",
    "    \n",
    "    \"\"\"\n",
    "    an image display function for MNIST dataset\n",
    "    you can determine whether predictions are also printed from a given model\n",
    "    \n",
    "    > img: image to print\n",
    "    > predict: whether predictions are calculated and printed\n",
    "    > pred_model: keras model that will be used for predictions\n",
    "    > shape: image shape, 28x28 by default\n",
    "    > threshold: minimum probability with which predictions will be displayed\n",
    "    > show_img: if False, does not show the image\n",
    "    \n",
    "    \"\"\"\n",
    "    if show_img:\n",
    "        plt.imshow(img.reshape(shape),vmin=0., vmax=1.)\n",
    "        plt.show()\n",
    "    \n",
    "    if predict:\n",
    "        \n",
    "        if pred_model == None:\n",
    "            print(\"you did not provide a model!\")\n",
    "            \n",
    "        else:\n",
    "            prediction = pred_model.predict(img)[0]\n",
    "            prediction = [(f'number {range(10)[idx]}', prediction[idx]) for idx in range(10) if prediction[idx] >= threshold]\n",
    "            print(prediction)"
   ]
  },
  {
   "cell_type": "code",
   "execution_count": 157,
   "metadata": {
    "scrolled": false,
    "slideshow": {
     "slide_type": "-"
    }
   },
   "outputs": [
    {
     "data": {
      "image/png": "[encoded data removed]",
      "text/plain": [
       "<Figure size 432x288 with 1 Axes>"
      ]
     },
     "metadata": {
      "needs_background": "light"
     },
     "output_type": "display_data"
    },
    {
     "name": "stdout",
     "output_type": "stream",
     "text": [
      "[('number 7', 0.9999968)]\n"
     ]
    },
    {
     "data": {
      "image/png": "[encoded data removed]",
      "text/plain": [
       "<Figure size 432x288 with 1 Axes>"
      ]
     },
     "metadata": {
      "needs_background": "light"
     },
     "output_type": "display_data"
    },
    {
     "name": "stdout",
     "output_type": "stream",
     "text": [
      "[('number 7', 0.99865663)]\n"
     ]
    }
   ],
   "source": [
    "#an adversarial example\n",
    "img = X_test[0:1]\n",
    "show_predict(img, predict = True, pred_model = mnist_model)\n",
    "\n",
    "#applying random noise does not fool the classifier\n",
    "quantized_noise = np.round(np.random.normal(loc=0.0, scale=0.3, size=img.shape) * 255.) / 255.\n",
    "noisy_img = np.clip(img + quantized_noise, 0., 1.)\n",
    "show_predict(noisy_img, predict = True, pred_model = mnist_model)"
   ]
  },
  {
   "cell_type": "markdown",
   "metadata": {},
   "source": [
    "# Adversarial model training\n",
    "\n",
    "To find \"smart noise\" or \"minimal perturbations\" that will actually manage to confuse our model, we need an **attacking algorithm**.\n",
    "\n",
    "While there are many of such algorithms, they all follow the same idea:\n",
    "\n",
    "*Confuse the target model while only changing the picture a bit.*\n",
    "\n",
    "Ideally the picture is changed so marginally that neither humans nor machines can easily 'see' that something is wrong.\n",
    "\n",
    "Practically, all algorithms differ in how *quick* vs how *effective* they are.\n",
    "\n",
    "We will consider a few examples of such algorithms below. We will use a great new library from IBM: [adversarial-robustness-toolbox](https://adversarial-robustness-toolbox.readthedocs.io/en/latest/index.html)"
   ]
  },
  {
   "cell_type": "markdown",
   "metadata": {},
   "source": [
    "## Elastic Net Attack Method\n",
    "\n",
    "**Idea**:\n",
    "\n",
    "*Elastic net* is a regularized regression method that linearly combines the *L1* and *L2* penalties of the Lasso and Ridge methods\n",
    "\n",
    "(widely used technique in solving high-dimensional feature selection problems)\n",
    "\n",
    "#### Elastic Net Attack combines two processes:\n",
    "\n",
    "1) trying to slightly modify the original image to move away from the most likely class to\n",
    "    - either the second most likely class\n",
    "    - or a given class in the case of targeted attacks\n",
    "2) staying as close to the original image as possible (regularization ensures that)\n",
    "\n",
    "As a result we usually get an image with only a few perturbations, yet misclassified\n",
    "\n",
    "[**Original Paper**](https://arxiv.org/abs/1709.04114)"
   ]
  },
  {
   "cell_type": "code",
   "execution_count": 165,
   "metadata": {},
   "outputs": [],
   "source": [
    "from art.attacks.evasion import ElasticNet\n",
    "from art.classifiers import KerasClassifier\n",
    "\n",
    "#wrapping our keras model for the attacking algorithm\n",
    "wrapped_classifier = KerasClassifier(model = mnist_model, use_logits = False)\n",
    "\n",
    "\n",
    "# Generating adversarial test examples\n",
    "attack = ElasticNet(classifier = wrapped_classifier, targeted = False)\n",
    "X_test_adv = attack.generate(x = X_test[:4])"
   ]
  },
  {
   "cell_type": "code",
   "execution_count": 186,
   "metadata": {
    "scrolled": false
   },
   "outputs": [
    {
     "data": {
      "image/png": "[encoded data removed]",
      "text/plain": [
       "<Figure size 432x288 with 1 Axes>"
      ]
     },
     "metadata": {
      "needs_background": "light"
     },
     "output_type": "display_data"
    },
    {
     "name": "stdout",
     "output_type": "stream",
     "text": [
      "[('number 7', 0.9999968)]\n"
     ]
    },
    {
     "data": {
      "image/png": "[encoded data removed]",
      "text/plain": [
       "<Figure size 432x288 with 1 Axes>"
      ]
     },
     "metadata": {
      "needs_background": "light"
     },
     "output_type": "display_data"
    }
   ],
   "source": [
    "#plotting the original image\n",
    "img = X_test[0:1]\n",
    "show_predict(img, predict = True, pred_model = mnist_model)\n",
    "\n",
    "img_adv = X_test_adv[0:1]\n",
    "show_predict(img_adv, predict = False)\n",
    "\n",
    "#uncomment to see the prediction\n",
    "#show_predict(img_adv, predict = True, pred_model = mnist_model, show_img = False)"
   ]
  },
  {
   "cell_type": "code",
   "execution_count": 129,
   "metadata": {},
   "outputs": [
    {
     "data": {
      "image/png": "[encoded data removed]",
      "text/plain": [
       "<Figure size 432x288 with 1 Axes>"
      ]
     },
     "metadata": {
      "needs_background": "light"
     },
     "output_type": "display_data"
    }
   ],
   "source": [
    "#here is how the changes introduced by the ElasticNet attack look like:\n",
    "plt.imshow((img_adv - img).reshape((28,28)),vmin=-1., vmax=1., cmap = 'RdYlGn');"
   ]
  },
  {
   "cell_type": "markdown",
   "metadata": {},
   "source": [
    "## Fast Gradient Attack Method\n",
    "\n",
    "Likely the most popular white-box attack: it's very fast, while quite powerful and intuitive\n",
    "\n",
    "**Idea**:\n",
    "\n",
    "Attack neural networks by leveraging the way they learn, *gradients*\n",
    "\n",
    "Rather than working to *minimize the loss by adjusting the weights* based on the backpropagated gradients, the attack *adjusts the input data to maximize the loss* based on the same gradients\n",
    "\n",
    "=> the attack uses the gradient of the loss w.r.t the input data, then adjusts the input data to maximize the loss.\n",
    "\n",
    "Based on the [pioneering paper](https://arxiv.org/abs/1412.6572) by Ian J. Goodfellow and coauthors."
   ]
  },
  {
   "cell_type": "code",
   "execution_count": 20,
   "metadata": {},
   "outputs": [],
   "source": [
    "from art.attacks.evasion import FastGradientMethod\n",
    "\n",
    "#setting up which number we want as the result of our attack \n",
    "target_number = 9\n",
    "target_vector = np.zeros(10)\n",
    "target_vector[target_number] = 1.\n",
    "y_test_adv = np.tile(target_vector,(len(y_test_onehot), 1))\n",
    "\n",
    "\n",
    "# Generating adversarial test examples\n",
    "attack2 = FastGradientMethod(classifier = wrapped_classifier, eps = 0.25, targeted = True)\n",
    "X_test_adv2 = attack2.generate(x = X_test, y = y_test_adv)"
   ]
  },
  {
   "cell_type": "code",
   "execution_count": 190,
   "metadata": {},
   "outputs": [
    {
     "data": {
      "image/png": "[encoded data removed]",
      "text/plain": [
       "<Figure size 432x288 with 1 Axes>"
      ]
     },
     "metadata": {
      "needs_background": "light"
     },
     "output_type": "display_data"
    },
    {
     "name": "stdout",
     "output_type": "stream",
     "text": [
      "[('number 7', 0.9999968)]\n"
     ]
    },
    {
     "data": {
      "image/png": "[encoded data removed]",
      "text/plain": [
       "<Figure size 432x288 with 1 Axes>"
      ]
     },
     "metadata": {
      "needs_background": "light"
     },
     "output_type": "display_data"
    }
   ],
   "source": [
    "#plotting the original image\n",
    "img = X_test[0:1]\n",
    "show_predict(img, predict = True, pred_model = mnist_model)\n",
    "\n",
    "#plotting the image modified with FastGradientMethod\n",
    "img_adv2 = X_test_adv2[0:1]\n",
    "show_predict(img_adv2, predict = False)\n",
    "\n",
    "#uncomment to see the prediction\n",
    "#show_predict(img_adv2, predict = True, pred_model = mnist_model, show_img = False)"
   ]
  },
  {
   "cell_type": "code",
   "execution_count": 137,
   "metadata": {
    "scrolled": true
   },
   "outputs": [
    {
     "data": {
      "image/png": "[encoded data removed]",
      "text/plain": [
       "<Figure size 432x288 with 1 Axes>"
      ]
     },
     "metadata": {
      "needs_background": "light"
     },
     "output_type": "display_data"
    }
   ],
   "source": [
    "#here is how the changes introduced by the FastGradientMethod attack look like:\n",
    "plt.imshow((img_adv2 - img).reshape((28,28)),vmin=-1., vmax=1., cmap = 'RdYlGn');"
   ]
  },
  {
   "cell_type": "markdown",
   "metadata": {},
   "source": [
    "## Homework\n",
    "\n",
    "Try other attackers from adversarial-robustness-toolbox, most notably \"DeepFool\" & \"Carlini and Wagner L_2 Attack\""
   ]
  },
  {
   "cell_type": "markdown",
   "metadata": {},
   "source": [
    "## Building a universal perturbation\n",
    "\n",
    "**Idea**:\n",
    "\n",
    "[A very interesting paper](http://openaccess.thecvf.com/content_cvpr_2017/papers/Moosavi-Dezfooli_Universal_Adversarial_Perturbations_CVPR_2017_paper.pdf) showed existence of universal (image-agnostic) and very small perturbation vectors that causes natural images to be misclassified with high probability in various NNs. This is one of the most striking results in the field.\n",
    "\n",
    "The authors developed an algorithm that can compute a universal perturbation using a variety of existent attack methods.\n",
    "\n",
    "This means that we can find a \"mask\" that will confused our target NN when applied to most input images\n",
    "\n",
    "<img src=\"images/uap.png\" width=\"600\" style=\"display: block;margin-left: auto;margin-right: auto;\"/>"
   ]
  },
  {
   "cell_type": "code",
   "execution_count": 59,
   "metadata": {},
   "outputs": [
    {
     "name": "stdout",
     "output_type": "stream",
     "text": [
      "art.attacks.evasion.fast_gradient.FastGradientMethod\n"
     ]
    }
   ],
   "source": [
    "# Generating adversarial test examples\n",
    "from art.attacks.evasion import UniversalPerturbation\n",
    "\n",
    "attack3 = UniversalPerturbation(classifier = wrapped_classifier, attacker = 'fgsm', eps = 0.3)\n",
    "x_test_adv3 = attack3.generate(x = X_test)"
   ]
  },
  {
   "cell_type": "code",
   "execution_count": 143,
   "metadata": {
    "scrolled": false
   },
   "outputs": [
    {
     "data": {
      "image/png": "[encoded data removed]",
      "text/plain": [
       "<Figure size 432x288 with 1 Axes>"
      ]
     },
     "metadata": {
      "needs_background": "light"
     },
     "output_type": "display_data"
    },
    {
     "name": "stdout",
     "output_type": "stream",
     "text": [
      "[('number 2', 0.6245198), ('number 7', 0.37546432)]\n"
     ]
    },
    {
     "data": {
      "image/png": "[encoded data removed]",
      "text/plain": [
       "<Figure size 432x288 with 1 Axes>"
      ]
     },
     "metadata": {
      "needs_background": "light"
     },
     "output_type": "display_data"
    },
    {
     "name": "stdout",
     "output_type": "stream",
     "text": [
      "[('number 2', 0.9999995)]\n"
     ]
    },
    {
     "data": {
      "image/png": "[encoded data removed]",
      "text/plain": [
       "<Figure size 432x288 with 1 Axes>"
      ]
     },
     "metadata": {
      "needs_background": "light"
     },
     "output_type": "display_data"
    },
    {
     "name": "stdout",
     "output_type": "stream",
     "text": [
      "[('number 2', 0.98347753)]\n"
     ]
    },
    {
     "data": {
      "image/png": "[encoded data removed]",
      "text/plain": [
       "<Figure size 432x288 with 1 Axes>"
      ]
     },
     "metadata": {
      "needs_background": "light"
     },
     "output_type": "display_data"
    },
    {
     "name": "stdout",
     "output_type": "stream",
     "text": [
      "[('number 2', 0.99980587)]\n"
     ]
    },
    {
     "data": {
      "image/png": "[encoded data removed]",
      "text/plain": [
       "<Figure size 432x288 with 1 Axes>"
      ]
     },
     "metadata": {
      "needs_background": "light"
     },
     "output_type": "display_data"
    }
   ],
   "source": [
    "for i in range(4):\n",
    "    \n",
    "    img =  X_test[i:i+1]\n",
    "\n",
    "    img_adv3 = x_test_adv3[i:i+1]\n",
    "    show_predict(img_adv3, predict = True, pred_model = mnist_model)\n",
    "    \n",
    "    pertrubation = img_adv3 - img\n",
    "    plt.imshow((img_adv3 - img).reshape((28,28)),vmin=-1., vmax=1., cmap = 'RdYlGn');"
   ]
  },
  {
   "cell_type": "code",
   "execution_count": 144,
   "metadata": {
    "scrolled": true
   },
   "outputs": [
    {
     "name": "stdout",
     "output_type": "stream",
     "text": [
      "10000/10000 [==============================] - 1s 80us/sample - loss: 0.0248 - categorical_accuracy: 0.9924\n",
      "regular test score:  [0.02482740342307843, 0.9924]\n",
      "10000/10000 [==============================] - 1s 100us/sample - loss: 4.5157 - categorical_accuracy: 0.2845\n",
      "adversarial test score:  [4.515735256195068, 0.2845]\n"
     ]
    }
   ],
   "source": [
    "print(\"regular test score: \", mnist_model.evaluate(X_test, y_test_onehot))\n",
    "print(\"adversarial test score: \", mnist_model.evaluate(x_test_adv3, y_test_onehot))"
   ]
  },
  {
   "cell_type": "markdown",
   "metadata": {},
   "source": [
    "## Let's add the 'mask' from above to create 20000 new adversarial training samples"
   ]
  },
  {
   "cell_type": "code",
   "execution_count": 145,
   "metadata": {},
   "outputs": [],
   "source": [
    "X_train_adv = X_train[:20000].copy()\n",
    "\n",
    "for i in range(len(X_train_adv)):\n",
    "    X_train_adv[i] += pertrubation[0]\n",
    "    \n",
    "X_train_ext = np.append(X_train, X_train_adv, axis = 0)\n",
    "y_train_ext = np.append(y_train_onehot, y_train_onehot[:20000].copy(), axis = 0)"
   ]
  },
  {
   "cell_type": "code",
   "execution_count": 149,
   "metadata": {},
   "outputs": [
    {
     "data": {
      "image/png": "[encoded data removed]",
      "text/plain": [
       "<Figure size 432x288 with 1 Axes>"
      ]
     },
     "metadata": {
      "needs_background": "light"
     },
     "output_type": "display_data"
    },
    {
     "name": "stdout",
     "output_type": "stream",
     "text": [
      "[('number 1', 0.075941525), ('number 2', 0.23704118), ('number 3', 0.4518284), ('number 5', 0.23333514)]\n"
     ]
    }
   ],
   "source": [
    "#let's check that it worked\n",
    "img_adv_train = X_train_adv[0:1]\n",
    "show_predict(img_adv_train, predict = True, pred_model = mnist_model)"
   ]
  },
  {
   "cell_type": "markdown",
   "metadata": {},
   "source": [
    "**Great!** We've just created \"new\" manipulated data points. We will get back to them later."
   ]
  },
  {
   "cell_type": "markdown",
   "metadata": {},
   "source": [
    "# Defending NNs against adversarial attacks\n",
    "\n",
    "## Possible Approaches:\n",
    "\n",
    "- Adding input filters and / or \"smart\" NN layers\n",
    "- [Feature squeezing](https://arxiv.org/abs/1704.01155)\n",
    "- Use data augmentation and data generators during model trainings\n",
    "- Include various adversarial samples into the training data\n",
    "- Model training alongside an adversarial generator\n",
    "- Gradient hiding (using non-differentiable models like RF)\n",
    "- Mixup ([Smooth decision boundaries](https://arxiv.org/abs/1710.09412))\n",
    "\n",
    "*Note*: none of the existing techniques guarantee 100% security. However most attack strategies can be made much less hard and effective. A combination of these defenses is usually preferable."
   ]
  },
  {
   "cell_type": "markdown",
   "metadata": {},
   "source": [
    "## input filters\n",
    "\n",
    "Since most attacks generate small perturbations in the form of noise and \"poisonous pixels\", we can (hopefully) get rid of both with a little help of additional image preprocessing. Let's see some examples below"
   ]
  },
  {
   "cell_type": "code",
   "execution_count": 150,
   "metadata": {},
   "outputs": [
    {
     "data": {
      "image/png": "[encoded data removed]",
      "text/plain": [
       "<Figure size 432x288 with 1 Axes>"
      ]
     },
     "metadata": {
      "needs_background": "light"
     },
     "output_type": "display_data"
    },
    {
     "name": "stdout",
     "output_type": "stream",
     "text": [
      "[('number 3', 0.7661993), ('number 7', 0.19242877)]\n"
     ]
    },
    {
     "data": {
      "image/png": "[encoded data removed]",
      "text/plain": [
       "<Figure size 432x288 with 1 Axes>"
      ]
     },
     "metadata": {
      "needs_background": "light"
     },
     "output_type": "display_data"
    },
    {
     "name": "stdout",
     "output_type": "stream",
     "text": [
      "[('number 7', 0.99999213)]\n"
     ]
    }
   ],
   "source": [
    "#converting images to low precision to only keep the essence\n",
    "\n",
    "def binary_filter_np(x):\n",
    "    \"\"\"\n",
    "    substantially reduces image's precision.\n",
    "    \"\"\"\n",
    "    x_bin = np.maximum(np.sign(x-0.5), 0)\n",
    "    return x_bin\n",
    "\n",
    "#show original attacked image\n",
    "show_predict(img_adv2, predict = True, pred_model = mnist_model)\n",
    "\n",
    "#show this image after filtering\n",
    "img_adv2_lowpres = binary_filter_np(img_adv2)\n",
    "show_predict(img_adv2_lowpres, predict = True, pred_model = mnist_model)"
   ]
  },
  {
   "cell_type": "code",
   "execution_count": 151,
   "metadata": {
    "scrolled": false
   },
   "outputs": [
    {
     "data": {
      "image/png": "[encoded data removed]",
      "text/plain": [
       "<Figure size 432x288 with 1 Axes>"
      ]
     },
     "metadata": {
      "needs_background": "light"
     },
     "output_type": "display_data"
    },
    {
     "name": "stdout",
     "output_type": "stream",
     "text": [
      "[('number 3', 0.7661993), ('number 7', 0.19242877)]\n"
     ]
    },
    {
     "data": {
      "image/png": "[encoded data removed]",
      "text/plain": [
       "<Figure size 432x288 with 1 Axes>"
      ]
     },
     "metadata": {
      "needs_background": "light"
     },
     "output_type": "display_data"
    },
    {
     "name": "stdout",
     "output_type": "stream",
     "text": [
      "[('number 7', 0.9998492)]\n"
     ]
    }
   ],
   "source": [
    "# Sharpening with Scipy to focus on key\n",
    "from scipy import misc\n",
    "\n",
    "blurred_f = ndimage.gaussian_filter(img_adv2, 3)\n",
    "filter_blurred_f = ndimage.gaussian_filter(blurred_f, 1)\n",
    "alpha = 70\n",
    "img_adv2_sharpened = blurred_f + alpha * (blurred_f - filter_blurred_f)\n",
    "\n",
    "#show original attacked image\n",
    "show_predict(img_adv2, predict = True, pred_model = mnist_model)\n",
    "\n",
    "#show this image after sharpening\n",
    "show_predict(img_adv2_sharpened, predict = True, pred_model = mnist_model)"
   ]
  },
  {
   "cell_type": "markdown",
   "metadata": {},
   "source": [
    "\n",
    "ART library also provides a variety of preprocessing defensive tools that we can directly combine with our models. You can read more about them [here](https://adversarial-robustness-toolbox.readthedocs.io/en/latest/modules/defences/preprocessor.html)"
   ]
  },
  {
   "cell_type": "markdown",
   "metadata": {},
   "source": [
    "## But shouldn't convolutional filters also be able to produce similar transformations?\n",
    "\n",
    "\n",
    "<img src=\"images/convolution_filters.png\" width=\"500\" style=\"display: block;margin-left: auto;margin-right: auto;\"/>"
   ]
  },
  {
   "cell_type": "markdown",
   "metadata": {},
   "source": [
    "## Drawbacks of preprocessing defenses\n",
    "\n",
    "- Different filters may only work for particular attack strategies\n",
    "- We are reducing image quality of normal images as well --> less information for NN --> lower accuracy\n",
    "- White box attacks may still be able to find vulnerabilities in our filters as well"
   ]
  },
  {
   "cell_type": "markdown",
   "metadata": {},
   "source": [
    "# Adversarial samples in training\n",
    "\n",
    "An alternative to (manually) transforming our inputs, we can also explicitly train our NN to deal with various image perturbations. We previously created 20000 modified training examples using the flexible noise mask generated by Fast Gradient Attack Method. Now we can combine these with our initial training data and train a new model that will hopefully be flexible enough to handle both well."
   ]
  },
  {
   "cell_type": "code",
   "execution_count": 152,
   "metadata": {},
   "outputs": [
    {
     "name": "stdout",
     "output_type": "stream",
     "text": [
      "80000/80000 [==============================] - 7s 94us/sample - loss: 1.1730 - categorical_accuracy: 0.8187\n",
      "[1.1730105533209272, 0.818725]\n",
      "10000/10000 [==============================] - 1s 104us/sample - loss: 0.0248 - categorical_accuracy: 0.9924\n",
      "[0.02482740342307843, 0.9924]\n"
     ]
    }
   ],
   "source": [
    "#creating a new model that will be trained using extended training data\n",
    "robust_mnist_model = make_mnist_model('robust_classification_model')\n",
    "\n",
    "#compiling the new model\n",
    "robust_mnist_model.compile(optimizer='Adam', loss='categorical_crossentropy', metrics=[categorical_accuracy])\n",
    "\n",
    "#training the new model\n",
    "\n",
    "earlyStop = EarlyStopping(monitor='val_categorical_accuracy', min_delta=0, patience=3, verbose=0, mode='auto',\n",
    "                          baseline=None, restore_best_weights=True)\n",
    "\n",
    "robust_mnist_model.fit(X_train_ext, y_train_ext, batch_size=128, epochs=10000, verbose=0, validation_data=(X_test, y_test_onehot),\n",
    "               callbacks=[earlyStop])\n",
    "\n",
    "print(mnist_model.evaluate(X_train_ext, y_train_ext))\n",
    "print(mnist_model.evaluate(X_test, y_test_onehot))"
   ]
  },
  {
   "cell_type": "code",
   "execution_count": 164,
   "metadata": {},
   "outputs": [
    {
     "name": "stdout",
     "output_type": "stream",
     "text": [
      "now we have:\n"
     ]
    },
    {
     "data": {
      "image/png": "[encoded data removed]",
      "text/plain": [
       "<Figure size 432x288 with 1 Axes>"
      ]
     },
     "metadata": {
      "needs_background": "light"
     },
     "output_type": "display_data"
    },
    {
     "name": "stdout",
     "output_type": "stream",
     "text": [
      "[('number 7', 0.9963773)]\n",
      "\n",
      "with the previous model we had:\n",
      "[('number 5', 0.99999)]\n"
     ]
    }
   ],
   "source": [
    "#let's check if the new model can handle adversarial examples better\n",
    "#the adversarial example from elastic net\n",
    "img_adv_train = X_test_adv[0:1]\n",
    "print(\"now we have:\")\n",
    "show_predict(img_adv_train, predict = True, pred_model = robust_mnist_model)\n",
    "\n",
    "print(\"\")\n",
    "print(\"with the previous model we had:\")\n",
    "show_predict(img_adv_train, predict = True, pred_model = mnist_model, show_img = False)"
   ]
  },
  {
   "cell_type": "code",
   "execution_count": 170,
   "metadata": {
    "scrolled": false
   },
   "outputs": [
    {
     "name": "stdout",
     "output_type": "stream",
     "text": [
      "now we have:\n"
     ]
    },
    {
     "data": {
      "image/png": "[encoded data removed]",
      "text/plain": [
       "<Figure size 432x288 with 1 Axes>"
      ]
     },
     "metadata": {
      "needs_background": "light"
     },
     "output_type": "display_data"
    },
    {
     "name": "stdout",
     "output_type": "stream",
     "text": [
      "[('number 7', 0.9999994)]\n",
      "\n",
      "with the previous model we had:\n",
      "[('number 2', 0.6245198), ('number 7', 0.37546432)]\n"
     ]
    }
   ],
   "source": [
    "#the adversarial example from FGSM (unseen during training)\n",
    "img_adv_test = x_test_adv3[0:1]\n",
    "print(\"now we have:\")\n",
    "show_predict(img_adv_test, predict = True, pred_model = robust_mnist_model)\n",
    "\n",
    "print(\"\")\n",
    "print(\"with the previous model we had:\")\n",
    "show_predict(img_adv_test, predict = True, pred_model = mnist_model, show_img = False)"
   ]
  },
  {
   "cell_type": "markdown",
   "metadata": {},
   "source": [
    "## But how about generating new adversarial examples for this new model?"
   ]
  },
  {
   "cell_type": "code",
   "execution_count": 183,
   "metadata": {},
   "outputs": [],
   "source": [
    "# Generating adversarial test examples\n",
    "#wrapping our new keras model for the attacking algorithm\n",
    "wrapped_classifier_new = KerasClassifier(model = robust_mnist_model, use_logits = False)\n",
    "\n",
    "attack_new = FastGradientMethod(classifier = wrapped_classifier_new, eps = 0.30, targeted = False)\n",
    "X_test_adv_new = attack_new.generate(x = X_test)"
   ]
  },
  {
   "cell_type": "code",
   "execution_count": 184,
   "metadata": {},
   "outputs": [
    {
     "data": {
      "image/png": "[encoded data removed]",
      "text/plain": [
       "<Figure size 432x288 with 1 Axes>"
      ]
     },
     "metadata": {
      "needs_background": "light"
     },
     "output_type": "display_data"
    },
    {
     "name": "stdout",
     "output_type": "stream",
     "text": [
      "[('number 7', 0.9611659)]\n"
     ]
    },
    {
     "data": {
      "image/png": "[encoded data removed]",
      "text/plain": [
       "<Figure size 432x288 with 1 Axes>"
      ]
     },
     "metadata": {
      "needs_background": "light"
     },
     "output_type": "display_data"
    },
    {
     "name": "stdout",
     "output_type": "stream",
     "text": [
      "[('number 1', 0.39863703), ('number 2', 0.60136276)]\n"
     ]
    },
    {
     "data": {
      "image/png": "[encoded data removed]",
      "text/plain": [
       "<Figure size 432x288 with 1 Axes>"
      ]
     },
     "metadata": {
      "needs_background": "light"
     },
     "output_type": "display_data"
    },
    {
     "name": "stdout",
     "output_type": "stream",
     "text": [
      "[('number 1', 0.9675312)]\n"
     ]
    },
    {
     "data": {
      "image/png": "[encoded data removed]",
      "text/plain": [
       "<Figure size 432x288 with 1 Axes>"
      ]
     },
     "metadata": {
      "needs_background": "light"
     },
     "output_type": "display_data"
    },
    {
     "name": "stdout",
     "output_type": "stream",
     "text": [
      "[('number 0', 0.36473185), ('number 2', 0.27199835), ('number 3', 0.080182865), ('number 5', 0.08845024), ('number 7', 0.055444825), ('number 9', 0.13629407)]\n"
     ]
    }
   ],
   "source": [
    "#plotting 4 of the resulting adversarial images\n",
    "\n",
    "for i in range(4):\n",
    "    img_adv_new = X_test_adv_new[i:i+1]\n",
    "    show_predict(img_adv_new, predict = True, pred_model = robust_mnist_model)"
   ]
  },
  {
   "cell_type": "markdown",
   "metadata": {},
   "source": [
    "# Adversarial samples in training: summary\n",
    "\n",
    "**pros:**\n",
    "- easy to implement\n",
    "- can keep the model structure\n",
    "- can learn to ignore many new types of noise\n",
    "- can combine samples from different attacks\n",
    "\n",
    "**cons:**\n",
    "- very different attack types may still succeed\n",
    "- needed amount of adversarial training data is unclear\n",
    "- when overdone, may hurt identification of normal samples\n",
    "- actual safety of the model is hard to measure"
   ]
  },
  {
   "cell_type": "markdown",
   "metadata": {},
   "source": [
    "## Homework\n",
    "\n",
    "Instead of training the model only once with adversarial samples generated for a single model, do the following:\n",
    "\n",
    "1. Train the initial model using the original training data (potentially with a bit of adversary samples already)\n",
    "2. Use an attacker to generate adversarial samples for this initial model\n",
    "3. Train the model further to also include these new samples (mix them with some original data)\n",
    "4. Repeat 2 & 3 in a loop until the performance on the original test set starts dropping too much\n",
    "\n",
    "5. Test the final model using new adversarial samples, preferably from alternative attack strategies\n",
    "\n",
    "*Bonus:* on step 2 alternate different attack strategies\n",
    "\n",
    "*Future tip:* a similar procedure can be done if you train a model alongside a generator, like [here](https://github.com/IBM/adversarial-robustness-toolbox/blob/master/examples/adversarial_training_data_augmentation.py)"
   ]
  },
  {
   "cell_type": "markdown",
   "metadata": {},
   "source": [
    "# Advanced defenses & further reading\n",
    "\n",
    "## Mixup ([Smooth decision boundaries](https://arxiv.org/abs/1710.09412))\n",
    "\n",
    "<img src=\"images/mixup.png\" width=\"600\" style=\"display: block;margin-left: auto;margin-right: auto;\"/>"
   ]
  },
  {
   "cell_type": "markdown",
   "metadata": {},
   "source": [
    "# Conclusions and Extra Tips\n",
    "\n",
    "- Existent NNs are surprisingly vulnerable!\n",
    "- The domain of adversarial attacks and defenses against them is quite new, therefore there are new methods developed on both sides as we speak\n",
    "- Having a model that is robust to various input forms and perturbations is generally a good idea: it can also help us detect regular unusual cases\n",
    "- Going all in with just one defense approach is usually risky\n",
    "- Every method comes with its own trade-offs that we need to be aware of\n",
    "- Try to \"hack\" your own NNs and see where they are vulnerable\n",
    "- Visualize and test the decision boundaries \n",
    "- Flag unusual inputs\n",
    "- Do not let the algorithm make most costly mistakes in ambiguous situations"
   ]
  },
  {
   "cell_type": "markdown",
   "metadata": {},
   "source": [
    "## What's next?\n",
    "\n",
    "There is much more to Deep Learning than what we covered today! If you find this a relevant and interesting subject - it is definitely a good idea to learn more about the topic. This notebook contains a number of references to more other techniques - which could be a good next step.\n",
    "\n",
    "**GoDataDriven** also offers in-depth [Deep Learning Trainings](https://xebia.com/academy/en/training/deep-learning) as well as a number of [other trainings](https://xebia.com/academy/en/data-science) that could boost your skills and career! The **next Deep Learning is in 2 weeks**\n",
    "\n",
    "In these unusual times we were quite successfully at moving online, and Xebia now offers a [33% discount](https://xebia.com/academy/en/virtual33) for those interested!\n",
    "\n",
    "If you doubt which training would suit you best, our [expert skills accelerator Koen van Riemsdijk](https://godatadriven.com/team/koen-vanriemsdijk/) is always happy to chat with you and give his advice!\n",
    "\n",
    "**See you next time!**\n",
    "\n",
    "<a href=\"https://xebia.com/academy/en/data-science\">\n",
    "<img src=\"https://godatadriven.com/wp-content/uploads/2019/09/GoDataDriven-FeaturedImage4a.jpg\" style=\"width: 600px;\" href/>\n",
    " </a>\n"
   ]
  },
  {
   "cell_type": "markdown",
   "metadata": {
    "slideshow": {
     "slide_type": "slide"
    }
   },
   "source": [
    "# Thank you for your attention!\n",
    "\n",
    "<img src=\"images/meme.png\" width=\"700\" style=\"display: block;margin-left: auto;margin-right: auto;\"/>"
   ]
  }
 ],
 "metadata": {
  "celltoolbar": "Slideshow",
  "kernelspec": {
   "display_name": "Python 3",
   "language": "python",
   "name": "python3"
  },
  "language_info": {
   "codemirror_mode": {
    "name": "ipython",
    "version": 3
   },
   "file_extension": ".py",
   "mimetype": "text/x-python",
   "name": "python",
   "nbconvert_exporter": "python",
   "pygments_lexer": "ipython3",
   "version": "3.8.3"
  }
 },
 "nbformat": 4,
 "nbformat_minor": 4
}
