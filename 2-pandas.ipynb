{
 "cells": [
  {
   "cell_type": "markdown",
   "metadata": {},
   "source": [
    "<img src='images/gdd-logo.png' width='300px' align='right' style=\"padding: 15px\">\n",
    "\n",
    "# Pandas\n",
    "\n",
    "Let's start exploring datasets. For this we are going to use the `pandas` library.\n",
    "\n",
    "In this section we will cover:\n",
    "\n",
    "- [What is pandas?](#import)\n",
    "- [Exploratory analysis](#exploratory)\n",
    "- [Data Cleaning](#cleaning)\n",
    "- [Plotting with `matplotlib`](#plotting)"
   ]
  },
  {
   "cell_type": "markdown",
   "metadata": {},
   "source": [
    "<a id='import'></a>\n",
    "\n",
    "## What is pandas?\n",
    "\n",
    "<img src=images/panda-intro.gif align=right>\n",
    "\n",
    "Pandas is a specialised package that allows us to work with databases using python. It provides many benefits over Excel:\n",
    "\n",
    "- You can read and work with almost any kind of data.\n",
    "- Can perform analysis repeatedly and can scale well\n",
    "- Very quick when working with large data sets\n",
    "- Advanced data visualization capabilities\n",
    "\n",
    "We're going to explore pandas using a dataset, but before we do that we need to import the library.\n",
    "\n",
    "First we need to import the package."
   ]
  },
  {
   "cell_type": "code",
   "execution_count": null,
   "metadata": {},
   "outputs": [],
   "source": [
    "import pandas as pd"
   ]
  },
  {
   "cell_type": "markdown",
   "metadata": {},
   "source": [
    "<a id='exploratory'></a>\n",
    "\n",
    "## Exploratory analysis"
   ]
  },
  {
   "cell_type": "markdown",
   "metadata": {},
   "source": [
    "The dataset  we'll be using is a Google Trends dataset on programming languages from 2004 to 2020.\n",
    "\n",
    "It was downloaded as a CSV from [this Google Trends query](https://trends.google.com/trends/explore?date=2004-01-01%202020-12-31&q=%2Fm%2F05z1_,%2Fm%2F075st,%2Fm%2F0212jm,%2Fm%2F02p97,%2Fm%2F080_2)."
   ]
  },
  {
   "cell_type": "markdown",
   "metadata": {},
   "source": [
    "<img src='images/what-i-think-i-do.png' width='600px' align='left'>"
   ]
  },
  {
   "cell_type": "markdown",
   "metadata": {},
   "source": [
    "filepath: `data/programming-trends.csv`\n",
    "\n",
    "This is a time series indexed by month with the search interest for each browser.\n",
    "\n",
    "- **Month:** Each month from 2004-01 to 2020-12\n",
    "- **Python:** Search interest for \n",
    "- **SQL:** Search interest for Python\n",
    "- **R:** Search interest for R\n",
    "- **JavaScript:** Search interest for JavaScript\n",
    "- **Visual Basic for Applications:** Search interest for VBA\n",
    "\n",
    "|Google defines the values of search interest as:|\n",
    "|:---|\n",
    "|Numbers represent search interest relative to the highest point on the chart for the given region and time. A value of 100 is the peak popularity for the term. A value of 50 means that the term is half as popular. A score of 0 means there was not enough data for this term.|"
   ]
  },
  {
   "cell_type": "code",
   "execution_count": null,
   "metadata": {},
   "outputs": [],
   "source": [
    "# Create data to use\n",
    "trends = pd.read_csv('data/programming-trends.csv')"
   ]
  },
  {
   "cell_type": "code",
   "execution_count": null,
   "metadata": {},
   "outputs": [],
   "source": [
    "# look at the top 5 rows\n"
   ]
  },
  {
   "cell_type": "code",
   "execution_count": null,
   "metadata": {},
   "outputs": [],
   "source": [
    "# fetch column names\n"
   ]
  },
  {
   "cell_type": "code",
   "execution_count": null,
   "metadata": {},
   "outputs": [],
   "source": [
    "# get info on all the columns\n"
   ]
  },
  {
   "cell_type": "code",
   "execution_count": null,
   "metadata": {},
   "outputs": [],
   "source": [
    "# get stats on the numeric columns - where's R and VBA?\n"
   ]
  },
  {
   "cell_type": "code",
   "execution_count": null,
   "metadata": {},
   "outputs": [],
   "source": [
    "# check the data types of each column\n"
   ]
  },
  {
   "cell_type": "code",
   "execution_count": null,
   "metadata": {},
   "outputs": [],
   "source": [
    "# find the min and max of the data\n"
   ]
  },
  {
   "cell_type": "code",
   "execution_count": null,
   "metadata": {},
   "outputs": [],
   "source": [
    "# find the mean for just R\n"
   ]
  },
  {
   "cell_type": "markdown",
   "metadata": {},
   "source": [
    "### Data Cleaning (wrangling)"
   ]
  },
  {
   "cell_type": "markdown",
   "metadata": {},
   "source": [
    "<img src='images/spend-time.jpg' width='700px'>\n",
    "\n",
    "Photo: [Forbes](https://www.forbes.com/sites/gilpress/2016/03/23/data-preparation-most-time-consuming-least-enjoyable-data-science-task-survey-says/?sh=4cd1339a6f63)"
   ]
  },
  {
   "cell_type": "markdown",
   "metadata": {},
   "source": [
    "DataFrame methods, like string methods, allow us to alter/change the dataframe without overwriting the original data.\n",
    "\n",
    "- `.assign()`: Add new or overwrite columns\n",
    "- `.set_index()`: Set an index column\n",
    "- `.replace()`: Replace *exact* values\n",
    "- `.astype()`: Convert the datatypes in the df\n",
    "- `.rename()`: rename columns or index names"
   ]
  },
  {
   "cell_type": "code",
   "execution_count": null,
   "metadata": {},
   "outputs": [],
   "source": []
  },
  {
   "cell_type": "code",
   "execution_count": null,
   "metadata": {},
   "outputs": [],
   "source": [
    "# %load code/clean-data.py"
   ]
  },
  {
   "cell_type": "markdown",
   "metadata": {},
   "source": [
    "### <mark>Activity</mark>:\n",
    "\n",
    "☆ Using `.describe()` find out which language has the smallest mean."
   ]
  },
  {
   "cell_type": "code",
   "execution_count": null,
   "metadata": {},
   "outputs": [],
   "source": []
  },
  {
   "cell_type": "markdown",
   "metadata": {},
   "source": [
    "☆☆ Using the method `.loc['yyyy-mm-dd']` find out what the trend value was for Python in May in 2019."
   ]
  },
  {
   "cell_type": "code",
   "execution_count": null,
   "metadata": {},
   "outputs": [],
   "source": []
  },
  {
   "cell_type": "markdown",
   "metadata": {},
   "source": [
    "## In-depth Analysis"
   ]
  },
  {
   "cell_type": "markdown",
   "metadata": {},
   "source": [
    "Our index is now the month column. This will be really useful because indexes are really special in Python. And datetime indexes are even more special."
   ]
  },
  {
   "cell_type": "code",
   "execution_count": null,
   "metadata": {},
   "outputs": [],
   "source": [
    "trends_cleaned.index"
   ]
  },
  {
   "cell_type": "markdown",
   "metadata": {},
   "source": [
    "To access a certain month we can use the `.loc[]` accessor.\n",
    "\n",
    "Say we want to look at December 2016 (date is formatted as `yyyy-mm-dd`):"
   ]
  },
  {
   "cell_type": "code",
   "execution_count": null,
   "metadata": {},
   "outputs": [],
   "source": [
    "trends_cleaned.loc['2016-12-01']"
   ]
  },
  {
   "cell_type": "markdown",
   "metadata": {},
   "source": [
    "Now we can compare years! Let's compare the first month of 2004 to the first month of 2020."
   ]
  },
  {
   "cell_type": "code",
   "execution_count": null,
   "metadata": {},
   "outputs": [],
   "source": [
    "start_year = trends_cleaned.loc['2016-12-01'] \n",
    "end_year = trends_cleaned.loc['2016-12-01']\n",
    "\n",
    "start_year, end_year"
   ]
  },
  {
   "cell_type": "markdown",
   "metadata": {},
   "source": [
    "We can also do calculations - maybe we want to look at the % change from Jan 2004 - Jan 2020:"
   ]
  },
  {
   "cell_type": "code",
   "execution_count": null,
   "metadata": {},
   "outputs": [],
   "source": [
    "pct_change_all = (end_year-start_year)/start_year\n",
    "pct_change_all"
   ]
  },
  {
   "cell_type": "markdown",
   "metadata": {},
   "source": [
    "How about we only look at Python..."
   ]
  },
  {
   "cell_type": "code",
   "execution_count": null,
   "metadata": {},
   "outputs": [],
   "source": []
  },
  {
   "cell_type": "code",
   "execution_count": null,
   "metadata": {},
   "outputs": [],
   "source": [
    "print(f\"% change in Python search interest (Jan04 - Jan20): %\")"
   ]
  },
  {
   "cell_type": "markdown",
   "metadata": {},
   "source": [
    "<a id='plotting'></a>\n",
    "## Plotting\n",
    "\n",
    "It's time to start visualising this data. Do our hypotheses hold up? Are we surprised? What is the data telling us?\n",
    "\n",
    "Let's import matplotlib"
   ]
  },
  {
   "cell_type": "code",
   "execution_count": null,
   "metadata": {},
   "outputs": [],
   "source": [
    "# install libraries and set some styling parameters\n",
    "import matplotlib.pyplot as plt\n",
    "import matplotlib\n",
    "\n",
    "# set matplotlib to show charts in the notebook\n",
    "%matplotlib inline\n",
    "\n",
    "# set fontsize for charts\n",
    "font = {'size': 12}\n",
    "matplotlib.rc('font', **font)"
   ]
  },
  {
   "cell_type": "markdown",
   "metadata": {},
   "source": [
    "Plot the search interest of each language over time to compare:"
   ]
  },
  {
   "cell_type": "code",
   "execution_count": null,
   "metadata": {},
   "outputs": [],
   "source": []
  },
  {
   "cell_type": "markdown",
   "metadata": {},
   "source": [
    "Smooth out the lines using rolling average or resample:"
   ]
  },
  {
   "cell_type": "code",
   "execution_count": null,
   "metadata": {},
   "outputs": [],
   "source": [
    "(\n",
    "    trends_cleaned\n",
    "    .rolling(window=12)\n",
    "    .mean()\n",
    ")"
   ]
  },
  {
   "cell_type": "markdown",
   "metadata": {},
   "source": [
    "Let's start looking at the percentage change in search interest over time...\n",
    "\n",
    "Remember our pct_change_all data from earlier?"
   ]
  },
  {
   "cell_type": "code",
   "execution_count": null,
   "metadata": {},
   "outputs": [],
   "source": [
    "# plot the data on the axes: ax\n",
    "(\n",
    "    pct_change_all\n",
    "    .plot(kind='barh',\n",
    "          title='Percent change in Search Interest from 2004 to 2020 in programming languages')\n",
    ")"
   ]
  },
  {
   "cell_type": "markdown",
   "metadata": {},
   "source": [
    "We can use the method `.pct_change()` to look at the percentage change from *n* observations ago. Since every observation is a month let's use the parameter `periods=12` to look at the change each month from the year before.\n",
    "\n",
    "Let's look at the *Annual Percent Change of Python Search Interest for Each Month*."
   ]
  },
  {
   "cell_type": "code",
   "execution_count": null,
   "metadata": {},
   "outputs": [],
   "source": [
    "(\n",
    "    trends_cleaned\n",
    "    .pct_change(12)\n",
    "    ['Python']\n",
    "    .plot(figsize=(10,6))\n",
    ")"
   ]
  },
  {
   "cell_type": "markdown",
   "metadata": {},
   "source": [
    "That's a bit hard to read, and comparing with other languages will be very difficult on one plot. Let's use subplots (and a little bit of coloring magic) to compare."
   ]
  },
  {
   "cell_type": "code",
   "execution_count": null,
   "metadata": {},
   "outputs": [],
   "source": [
    "# look at the percentage increase in each month from 12 months ago (previous year)\n",
    "trends_pct_change = trends_cleaned.pct_change(12)\n",
    "\n",
    "# set up 5 vertical subplots\n",
    "fig, axs = plt.subplots(5, figsize=(15,12))\n",
    "\n",
    "# loop over each subplot & each column\n",
    "for ax, col in zip(axs, trends_pct_change.columns):\n",
    "    # plot the percentage change for each language\n",
    "    ax.plot(trends_pct_change.index, trends_pct_change[col],  color='k') \n",
    "    \n",
    "    # fill the space between the line and zero with GREEN if positive and RED if negative.\n",
    "    ax.fill_between(trends_pct_change.index, trends_pct_change[col], where=trends_pct_change[col]<=0, color='r', alpha=0.2)\n",
    "    ax.fill_between(trends_pct_change.index, trends_pct_change[col], where=trends_pct_change[col]>=0, color='g', alpha=0.2)\n",
    "    \n",
    "    # set y-axis and title\n",
    "    ax.set_ylim([-0.5,0.5])\n",
    "    ax.yaxis.grid()\n",
    "    ax.set_ylabel('% Change')\n",
    "    ax.set_title(f\"Change in Search Interest from Previous Year for {col}\")\n",
    "    \n",
    "plt.tight_layout(pad=3.0)"
   ]
  },
  {
   "cell_type": "markdown",
   "metadata": {},
   "source": [
    "Let's have a look at the average percent change year on year.\n",
    "\n",
    "First let's create a new column called `\"Year\"`:"
   ]
  },
  {
   "cell_type": "code",
   "execution_count": null,
   "metadata": {},
   "outputs": [],
   "source": [
    "trends_yr = trends_cleaned.assign(Year = trends_cleaned.index.year)\n",
    "trends_yr.head()"
   ]
  },
  {
   "cell_type": "markdown",
   "metadata": {},
   "source": [
    "Now let's use that column in a `.groupby()` & apply pct_change to the grouped data:"
   ]
  },
  {
   "cell_type": "code",
   "execution_count": null,
   "metadata": {},
   "outputs": [],
   "source": [
    "yearly_trends = (\n",
    "    trends_yr\n",
    "    .groupby(\"Year\")\n",
    "    .mean()\n",
    "    .pct_change()\n",
    ")\n",
    "yearly_trends"
   ]
  },
  {
   "cell_type": "code",
   "execution_count": null,
   "metadata": {},
   "outputs": [],
   "source": [
    "import numpy as np\n",
    "\n",
    "# set up 5 vertical sublots\n",
    "fig, axs = plt.subplots(5, figsize=(15,12))\n",
    "\n",
    "# loop through each column to plot on each subplot\n",
    "for ax, col in zip(axs, yearly_trends.columns):\n",
    "\n",
    "    # bar plot using color map for pos/neg values\n",
    "    ax.bar(\n",
    "           yearly_trends.index, \n",
    "           yearly_trends[col], \n",
    "           color=(yearly_trends[col] >= 0).map({True: 'g', False: 'r'}), alpha=0.5\n",
    "          )\n",
    "    \n",
    "    # set labels\n",
    "    ax.set_title(f\"{col}\")\n",
    "    ax.yaxis.grid(which='major')\n",
    "    ax.set_ylim([-0.35, 0.35])\n",
    "    major_ticks = np.arange(-0.35,0.36,0.35)\n",
    "    ax.set_yticks(major_ticks)\n",
    "    \n",
    "plt.tight_layout(pad=3.0)"
   ]
  },
  {
   "cell_type": "markdown",
   "metadata": {},
   "source": [
    "<img src='images/panda.gif' width='300px' align='right' style=\"padding: 20px\">\n",
    "\n",
    "## Final thoughts...\n",
    "\n",
    "Learning Pandas can be quite frustrating but with practice (and Google!) it becomes straightforward and extremely powerful.\n",
    "\n",
    "**Want to learn more? Join us on a public course:**\n",
    "- [Python for Data Analysts](https://godatadriven.com/training/python-for-data-analysts-training/)\n",
    "- [Certified Python for Data Science](https://godatadriven.com/training/data-science-python-foundation-training/)\n",
    "- [And more!](https://godatadriven.com/what-we-do/train/#upcoming)\n",
    "\n",
    "Interested in our other courses? Download our [Training Guide](https://godatadriven.com/topic/training-brochure/)"
   ]
  },
  {
   "cell_type": "markdown",
   "metadata": {},
   "source": [
    "---\n",
    "<img src='images/download.png' width='80px' align='left'>"
   ]
  },
  {
   "cell_type": "markdown",
   "metadata": {},
   "source": [
    "**If you would like to <mark>save this notebook</mark> there is a Download button at the top of the page. This will download the `.ipynb`**"
   ]
  },
  {
   "cell_type": "markdown",
   "metadata": {},
   "source": [
    "If you are not planning to get Anaconda but you want to save the work you've done, got to `File -> Download as` and choose `.html`."
   ]
  },
  {
   "cell_type": "markdown",
   "metadata": {},
   "source": [
    "<img src='images/visit-repo.png' width='60px' align='left'>"
   ]
  },
  {
   "cell_type": "markdown",
   "metadata": {},
   "source": [
    "Alternatively you can click Visit repo at the top to navigate to the github repo where you can download everything as a `.zip` file. \n",
    "\n",
    "\n",
    "Full solutions can be found in the [solutions folder](solutions/)."
   ]
  }
 ],
 "metadata": {
  "kernelspec": {
   "display_name": "Python 3 (ipykernel)",
   "language": "python",
   "name": "python3"
  },
  "language_info": {
   "codemirror_mode": {
    "name": "ipython",
    "version": 3
   },
   "file_extension": ".py",
   "mimetype": "text/x-python",
   "name": "python",
   "nbconvert_exporter": "python",
   "pygments_lexer": "ipython3",
   "version": "3.9.7"
  }
 },
 "nbformat": 4,
 "nbformat_minor": 4
}
