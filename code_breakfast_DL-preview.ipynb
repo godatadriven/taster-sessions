{
 "cells": [
  {
   "cell_type": "code",
   "execution_count": 2,
   "metadata": {
    "slideshow": {
     "slide_type": "skip"
    }
   },
   "outputs": [
    {
     "data": {
      "text/html": [
       "<link rel=\"stylesheet\" type=\"text/css\" href=\"css/custom.css\">\n"
      ],
      "text/plain": [
       "<IPython.core.display.HTML object>"
      ]
     },
     "metadata": {},
     "output_type": "display_data"
    }
   ],
   "source": [
    "%%HTML\n",
    "<link rel=\"stylesheet\" type=\"text/css\" href=\"css/custom.css\">"
   ]
  },
  {
   "cell_type": "markdown",
   "metadata": {},
   "source": [
    "# Note: *this file is a preview*\n",
    "\n",
    "## Full code and slides will be uploaded shortly before the code breakfast date!\n",
    "\n"
   ]
  },
  {
   "cell_type": "markdown",
   "metadata": {},
   "source": [
    "# About the speaker & Contact\n",
    "\n",
    "**Vadim Nelidov**: [Data Scientist, Educator and Innovator at GoDataDriven](https://godatadriven.com/team/vadim-nelidov/)\n",
    "\n",
    "Feel free to contact me via\n",
    "\n",
    "*email*: vadimnelidov@godatadriven.com\n",
    "\n",
    "*LinkedIn*: https://www.linkedin.com/in/vadim-nelidov-4b1921188\n"
   ]
  },
  {
   "cell_type": "markdown",
   "metadata": {},
   "source": [
    "# Where to find the materials\n",
    "\n",
    "Use this link to a dropbox folder :\n",
    "https://gdd.li/codebr_nn_files\n",
    "\n",
    "\"*code_breakfast_DL*\" contains the notebook with the slides and code\n",
    "\n",
    " \"*requirements.txt*\" and \"*environment.yml*\" contain the Python libraries / venv requirements "
   ]
  },
  {
   "cell_type": "markdown",
   "metadata": {
    "slideshow": {
     "slide_type": "slide"
    }
   },
   "source": [
    "# Vulnerabilities of Neural Networks: Find, Defend and Prevent\n",
    "\n",
    "\n",
    "<img src=\"images/intro.png\" width=\"650\" style=\"display: block;margin-left: auto;margin-right: auto;\"/>\n",
    "\n",
    "\n",
    "![footer_logo](images/logo.png)"
   ]
  },
  {
   "cell_type": "markdown",
   "metadata": {
    "slideshow": {
     "slide_type": "subslide"
    }
   },
   "source": [
    "# Program\n",
    "\n",
    "- Risks involved with NNs\n",
    "- Adversary NN Manipulations and how they work\n",
    "- Attack Types\n",
    "- Building a benchmark \"target\" model\n",
    "- Implementing various attack strategies\n",
    "- Defense types\n",
    "- Implementation of defenses\n",
    "- Future extensions and tips"
   ]
  },
  {
   "cell_type": "code",
   "execution_count": 5,
   "metadata": {
    "slideshow": {
     "slide_type": "skip"
    }
   },
   "outputs": [],
   "source": [
    "#imports\n",
    "\n",
    "import tensorflow.keras\n",
    "from tensorflow.keras.datasets import mnist\n",
    "from tensorflow.keras.models import Model\n",
    "from tensorflow.keras.layers import Dense, Dropout, Flatten ,Input\n",
    "from tensorflow.keras.layers import Conv2D, MaxPool2D, Reshape, Add\n",
    "from tensorflow.keras.metrics import categorical_accuracy\n",
    "from tensorflow.keras.regularizers import l1_l2, l2, l1\n",
    "from tensorflow.keras.callbacks import EarlyStopping, ModelCheckpoint\n",
    "from tensorflow.keras.layers import Activation\n",
    "from tensorflow.keras.utils import to_categorical\n",
    "from tensorflow.keras.utils import get_custom_objects\n",
    "from tensorflow.python.keras import backend as K\n",
    "from tensorflow.keras.preprocessing.image import array_to_img,img_to_array, ImageDataGenerator\n",
    "\n",
    "import matplotlib.pyplot as plt\n",
    "import numpy as np\n",
    "import random"
   ]
  },
  {
   "cell_type": "code",
   "execution_count": 4,
   "metadata": {},
   "outputs": [
    {
     "name": "stdout",
     "output_type": "stream",
     "text": [
      "(60000, 28, 28)\n"
     ]
    },
    {
     "data": {
      "image/png": "[encoded data removed]",
      "text/plain": [
       "<Figure size 432x288 with 6 Axes>"
      ]
     },
     "metadata": {
      "needs_background": "light"
     },
     "output_type": "display_data"
    }
   ],
   "source": [
    "#loading data\n",
    "(X_train, y_train), (X_test, y_test) = mnist.load_data()\n",
    "\n",
    "print(X_train.shape)\n",
    "\n",
    "[ax.imshow(random.choice(X_train), cmap=\"gray\") for ax in plt.subplots(1, 6)[1]];"
   ]
  }
 ],
 "metadata": {
  "celltoolbar": "Slideshow",
  "kernelspec": {
   "display_name": "Python 3",
   "language": "python",
   "name": "python3"
  },
  "language_info": {
   "codemirror_mode": {
    "name": "ipython",
    "version": 3
   },
   "file_extension": ".py",
   "mimetype": "text/x-python",
   "name": "python",
   "nbconvert_exporter": "python",
   "pygments_lexer": "ipython3",
   "version": "3.8.3"
  }
 },
 "nbformat": 4,
 "nbformat_minor": 4
}
