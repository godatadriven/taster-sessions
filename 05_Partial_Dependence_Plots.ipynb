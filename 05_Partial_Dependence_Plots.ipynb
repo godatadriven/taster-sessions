{
 "cells": [
  {
   "cell_type": "code",
   "execution_count": 1,
   "id": "8b17a606",
   "metadata": {},
   "outputs": [
    {
     "data": {
      "text/html": [
       "<html>\n",
       "<link rel=\"stylesheet\" href=\"https://marysia.nl/assets/GDD/css/custom.css\">\n",
       "</html>"
      ],
      "text/plain": [
       "<IPython.core.display.HTML object>"
      ]
     },
     "execution_count": 1,
     "metadata": {},
     "output_type": "execute_result"
    }
   ],
   "source": [
    "# Optional: change Jupyter Notebook theme to GDD theme\n",
    "from IPython.core.display import HTML\n",
    "HTML(url='https://gdd.li/jupyter-theme')"
   ]
  },
  {
   "cell_type": "markdown",
   "id": "39c200fe",
   "metadata": {},
   "source": [
    "![footer_logo](https://marysia.nl/assets/GDD/css/logo.png)\n",
    "\n",
    "# Partial Dependence Plots\n",
    "\n",
    "![footer_logo](https://pbs.twimg.com/profile_images/726045460331401216/izaV7jmy_400x400.jpg)\n",
    "\n",
    "The last method of explainability that we will cover in this workshop is that of _Partial Dependence Plots_. Combined with the other methods (_Ceteris Paribus_, _Prediction Break-Down_ and _Permutation Feature Importance_) this will cover the entire scale of local and global feature importance and sensitivity methods. \n",
    "\n",
    "|        | **Feature Importance**             | **Sensitivity**             |\n",
    "|--------|--------------------------------|--------------------------|\n",
    "| **Local**  | Prediction Break-Down          | Ceteris Paribus          |\n",
    "| **Global** | Permutation Feature Importance | _Partial Dependence Plots_ |\n",
    "\n",
    "Partial Dependence Plots are therefore a _global_ method for determining feature _sensitivity_. As a reminder of how feature sensitivity helps explain a model, we will first revisit the Ceteris Paribus plots for the Penguins body mass regression model. Then, we will extend this to Partial Dependence Plots. \n",
    "\n",
    "### Outline\n",
    "1. [Revisit: Ceteris Paribus plots](#cetpar)\n",
    "1. [Partial Dependence Plots](#partplot)\n",
    "1. [Exercise](#ex1)\n",
    "\n",
    "\n",
    "<a id = 'cetpar'></a>\n",
    "\n",
    "# 1. Revisit: Ceteris Paribus plots\n",
    "\n",
    "Let us revist the Ceteris Paribus plots from the earlier notebook. In order to do that, we once again start out by loading in the data and creating the model. "
   ]
  },
  {
   "cell_type": "code",
   "execution_count": null,
   "id": "4340a72e",
   "metadata": {},
   "outputs": [],
   "source": [
    "import pandas as pd \n",
    "from sklearn.model_selection import train_test_split\n",
    "\n",
    "# Read in the data again - do *not* drop Adélie! \n",
    "penguins = (\n",
    "    pd.read_csv('data/penguins.csv')\n",
    "    .dropna()\n",
    ")\n",
    "\n",
    "# Set features & target.\n",
    "feature_columns = ['flipper_length_mm', 'bill_length_mm', 'bill_depth_mm', 'sex', 'island', 'species']\n",
    "target = 'body_mass_g'\n",
    "\n",
    "# Set X and y\n",
    "X = penguins.loc[:, feature_columns]\n",
    "y = penguins.loc[:, target]\n",
    "\n",
    "# Split the dataset. \n",
    "X_train, X_test, y_train, y_test = train_test_split(X, y, test_size = 0.3, random_state=42)"
   ]
  },
  {
   "cell_type": "code",
   "execution_count": null,
   "id": "2c588d54",
   "metadata": {},
   "outputs": [],
   "source": [
    "from sklearn.ensemble import RandomForestRegressor \n",
    "from sklearn.compose import ColumnTransformer\n",
    "from sklearn.preprocessing import OneHotEncoder\n",
    "from sklearn.pipeline import Pipeline\n",
    "\n",
    "ct = ColumnTransformer([\n",
    "    ('onehot', OneHotEncoder(), ['sex', 'species', 'island']),\n",
    "], remainder='passthrough')\n",
    "\n",
    "pipeline = Pipeline([\n",
    "    ('ct', ct),\n",
    "    ('model', RandomForestRegressor(random_state=42))\n",
    "])\n",
    "\n",
    "pipeline.fit(X_train, y_train)\n",
    "pipeline.score(X_test, y_test)"
   ]
  },
  {
   "cell_type": "markdown",
   "id": "60e599d8",
   "metadata": {},
   "source": [
    "In order to create the Ceteris Paribus plots, the model needs to be wrapped in an Explainer object."
   ]
  },
  {
   "cell_type": "code",
   "execution_count": null,
   "id": "073b9020",
   "metadata": {},
   "outputs": [],
   "source": [
    "import dalex \n",
    "\n",
    "explainer = dalex.Explainer(pipeline, X_train, y_train)"
   ]
  },
  {
   "cell_type": "markdown",
   "id": "c20ddcc3",
   "metadata": {},
   "source": [
    "Once we have an explainer, we can pick and choose a row to explain."
   ]
  },
  {
   "cell_type": "code",
   "execution_count": null,
   "id": "8c1ca2ff",
   "metadata": {},
   "outputs": [],
   "source": [
    "n = 230\n",
    "row = X_test.loc[[230]]\n",
    "row"
   ]
  },
  {
   "cell_type": "code",
   "execution_count": null,
   "id": "fe49d47f",
   "metadata": {},
   "outputs": [],
   "source": [
    "profile = explainer.predict_profile(row)\n",
    "profile.plot()"
   ]
  },
  {
   "cell_type": "markdown",
   "id": "fe9d170b",
   "metadata": {},
   "source": [
    "This is the plot we've seen before. This plot was created by _specifically_ passing the `.predict_profile` method to the row in question. However, what would happen if we would pass more than one row as an argument? Maybe even the whole test set? "
   ]
  },
  {
   "cell_type": "code",
   "execution_count": null,
   "id": "1aeb7afc",
   "metadata": {},
   "outputs": [],
   "source": [
    "profile = explainer.predict_profile(X_test)\n",
    "profile.plot()"
   ]
  },
  {
   "cell_type": "markdown",
   "id": "07959e28",
   "metadata": {},
   "source": [
    "As you can see, this creates a Ceteris Paribus plot for every single datapoint in the dataset! The plots themselves become barely readable. \n",
    "\n",
    "<a id = 'partplot'></a>\n",
    "# 2. Partial Dependence Plots\n",
    "Let us visit a completely different method: `.model_profile`. "
   ]
  },
  {
   "cell_type": "code",
   "execution_count": null,
   "id": "539932e8",
   "metadata": {},
   "outputs": [],
   "source": [
    "profile = explainer.model_profile()\n",
    "profile.plot()"
   ]
  },
  {
   "cell_type": "markdown",
   "id": "114fe654",
   "metadata": {},
   "source": [
    "Once we plot the model profile, it displays only one single line. But for what data point is that? We passed it the entire dataset, after all...\n",
    "\n",
    "Let's add an argument to the plot method."
   ]
  },
  {
   "cell_type": "code",
   "execution_count": null,
   "id": "437e4842",
   "metadata": {},
   "outputs": [],
   "source": [
    "profile = explainer.model_profile(groups='island')\n",
    "profile.plot(geom='profiles')"
   ]
  },
  {
   "cell_type": "markdown",
   "id": "00916676",
   "metadata": {},
   "source": [
    "<a id = 'ex2'></a>\n",
    "# 3. Exercise\n",
    "<div class=\"exercise\" markdown=\"1\">\n",
    "\n",
    "### Exercise \n",
    "#### Partial Dependence Plots\n",
    "\n",
    "Analyse the Partial Dependence Plots. \n",
    "\n",
    "1. Add an argument `groups='species'` to the model_profile method. Also try 'sex' and 'island'. What happens? Notice anything interesting? \n",
    "1. Can you explain in your own words how these plots are calculated?  \n",
    "1. Can you think of a way these plots can help you with feature engineering? \n",
    "1. Can you think of the advantages and disadvantages of this approach? \n",
    "\n",
    "</div>\n"
   ]
  },
  {
   "cell_type": "code",
   "execution_count": null,
   "id": "7d61d47c",
   "metadata": {},
   "outputs": [],
   "source": [
    "# Code block for question 1. "
   ]
  },
  {
   "cell_type": "raw",
   "id": "88637aa4",
   "metadata": {},
   "source": [
    "Your answers here..\n",
    "\n",
    "1.\n",
    "2.\n",
    "3.\n",
    "4."
   ]
  }
 ],
 "metadata": {
  "kernelspec": {
   "display_name": "Python 3 (ipykernel)",
   "language": "python",
   "name": "python3"
  },
  "language_info": {
   "codemirror_mode": {
    "name": "ipython",
    "version": 3
   },
   "file_extension": ".py",
   "mimetype": "text/x-python",
   "name": "python",
   "nbconvert_exporter": "python",
   "pygments_lexer": "ipython3",
   "version": "3.9.6"
  }
 },
 "nbformat": 4,
 "nbformat_minor": 5
}
